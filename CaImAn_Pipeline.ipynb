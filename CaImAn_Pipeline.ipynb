{
 "cells": [
  {
   "cell_type": "markdown",
   "metadata": {},
   "source": [
    "# CNMF-E demo pipeline\n",
    "##### version 2025, modified by Eunju Sung, Jongmin Yoon\n",
    "\n",
    "This notebook demonstrates how to use Caiman for processing 1p microendoscopic data. It shows how to use Caiman for the following steps:\n",
    "\n",
    "1. Apply the nonrigid motion correction (NoRMCorre) algorithm for motion correction to the original movie.\n",
    "2. Apply the constrained nonnegative matrix factorization endoscopic (CNMF-E) source separation algorithm to extract an initial estimate of neuronal spatial footprint and calcium traces.\n",
    "3. Apply quality control metrics to evaluate the initial estimates to narrow them down to a final set of estimates.\n",
    "\n",
    "\\+ plot and save extracted dF/F trace and clustered heatmap\n",
    "\n",
    "reference: https://github.com/flatironinstitute/CaImAn/blob/main/demos/notebooks/demo_pipeline_cnmfE.ipynb\n",
    "\n",
    "or see CaImAn docs for more information: https://caiman.readthedocs.io/en/latest/index.html"
   ]
  },
  {
   "cell_type": "markdown",
   "metadata": {},
   "source": [
    "# Imports and general setup"
   ]
  },
  {
   "cell_type": "code",
   "execution_count": null,
   "metadata": {},
   "outputs": [],
   "source": [
    "import bokeh.plotting as bpl\n",
    "import cv2\n",
    "import glob\n",
    "import holoviews as hv\n",
    "from IPython import get_ipython\n",
    "import logging\n",
    "import matplotlib.pyplot as plt\n",
    "import numpy as np\n",
    "import os\n",
    "import psutil\n",
    "\n",
    "import caiman as cm\n",
    "from caiman.source_extraction import cnmf\n",
    "from caiman.source_extraction.cnmf.cnmf import load_CNMF\n",
    "from caiman.utils.utils import download_demo\n",
    "from caiman.utils.visualization import inspect_correlation_pnr, nb_inspect_correlation_pnr\n",
    "from caiman.motion_correction import MotionCorrect\n",
    "from caiman.source_extraction.cnmf import params as params\n",
    "from caiman.utils.visualization import plot_contours, nb_view_patches, nb_plot_contour\n",
    "from caiman.utils.visualization import view_quilt\n",
    "\n",
    "try:\n",
    "    if __IPYTHON__:\n",
    "        get_ipython().run_line_magic('load_ext', 'autoreload')\n",
    "        get_ipython().run_line_magic('autoreload', '2')\n",
    "        # get_ipython().run_line_magic('matplotlib', 'qt')  #uncomment to run in qt mode\n",
    "except NameError:\n",
    "    pass\n",
    "\n",
    "try:\n",
    "    cv2.setNumThreads(0)\n",
    "except:\n",
    "    pass\n",
    "\n",
    "bpl.output_notebook()\n",
    "hv.notebook_extension('bokeh')"
   ]
  },
  {
   "cell_type": "markdown",
   "metadata": {},
   "source": [
    "Set up logger and environment variables"
   ]
  },
  {
   "cell_type": "code",
   "execution_count": null,
   "metadata": {},
   "outputs": [],
   "source": [
    "# set up logging\n",
    "logfile = None # Replace with a path if you want to log to a file\n",
    "logger = logging.getLogger('caiman')\n",
    "# Set to logging.INFO if you want much output, potentially much more output\n",
    "logger.setLevel(logging.WARNING)\n",
    "logfmt = logging.Formatter('%(relativeCreated)12d [%(filename)s:%(funcName)20s():%(lineno)s] [%(process)d] %(message)s')\n",
    "if logfile is not None:\n",
    "    handler = logging.FileHandler(logfile)\n",
    "else:\n",
    "    handler = logging.StreamHandler()\n",
    "handler.setFormatter(logfmt)\n",
    "logger.addHandler(handler)\n",
    "\n",
    "# set env variables in case they weren't already set\n",
    "os.environ[\"MKL_NUM_THREADS\"] = \"1\"\n",
    "os.environ[\"OPENBLAS_NUM_THREADS\"] = \"1\"\n",
    "os.environ[\"VECLIB_MAXIMUM_THREADS\"] = \"1\""
   ]
  },
  {
   "cell_type": "markdown",
   "metadata": {},
   "source": [
    "# Set file path and shading function"
   ]
  },
  {
   "cell_type": "code",
   "execution_count": null,
   "metadata": {},
   "outputs": [],
   "source": [
    "# you have to change this!!!\n",
    "movie_path = ['/home/npl/EJ/CaImAn/data/250410/try4_resized.tif'] # multiple tif files can be processed\n",
    "output_path = '/home/npl/EJ/CaImAn/result/250410'\n",
    "\n",
    "\n",
    "# different numbering -> different shade color\n",
    "# len (onset#) and len(duration#) should be same..\n",
    "onset1 = [49, 229, 409, 589, 769]  \n",
    "duration1 = [10, 10, 10, 10, 10] \n",
    "onset2 = [109, 289, 469, 649, 829] \n",
    "duration2 = [10, 10, 10, 10, 10] \n",
    "onset3 = [169, 349, 529, 709, 889] \n",
    "duration3 = [10, 10, 10, 10, 10] \n",
    "\n",
    "# add all onset#n to onsets and duration#n to durations.\n",
    "# add color according to the number of onsets and durations.\n",
    "onsets = [onset1, onset2, onset3]\n",
    "durations = [duration1, duration2, duration3]\n",
    "colors = ['red', 'blue', 'purple']\n",
    "\n",
    "def highlight(ax, colors, onsets, durations):\n",
    "    \"\"\"\n",
    "    Highlight multiple regions in the plot with different colors.\n",
    "\n",
    "    Parameters:\n",
    "    ax (matplotlib.axes.Axes): The axes on which to draw the highlights.\n",
    "    colors (list of str): The colors to use for highlighting.\n",
    "    onsets_durations (list of lists): Each element is a list with two elements: [onset, duration].\n",
    "    \"\"\"\n",
    "    if len(durations) != len(onsets):\n",
    "        raise ValueError(\"The length of onsets and durations must be the same.\")\n",
    "    \n",
    "    for idx in range(len(durations)):\n",
    "        onset = onsets[idx]\n",
    "        duration = durations[idx]\n",
    "        if len(duration) != len(onset):\n",
    "            raise ValueError(\"The length of each onset and duration must be the same.\")\n",
    "        for (onset, duration) in zip(onset, duration):\n",
    "            ax.axvspan(onset, onset + duration, facecolor=colors[idx], alpha=0.3)"
   ]
  },
  {
   "cell_type": "markdown",
   "metadata": {},
   "source": [
    "# Set up multicore processing\n",
    "To enable parallel computing we will enable multiple CPUs for processing. The resulting `cluster` variable contains the pool of processors (CPUs) that will be used in later steps. If you use `dview=cluster` in later steps, then parallel processing will be used. If you use `dview=None` then no parallel processing will be used. The `num_processors_to_use` variable determines how many CPU cores you will use (when set to `None` it goes to the default of one less than the number available):"
   ]
  },
  {
   "cell_type": "code",
   "execution_count": null,
   "metadata": {},
   "outputs": [],
   "source": [
    "print(f\"You have {psutil.cpu_count()} CPUs available in your current environment\")\n",
    "num_processors_to_use = None"
   ]
  },
  {
   "cell_type": "markdown",
   "metadata": {},
   "source": [
    "If you have already set up multiprocessing (the `cluster` variable is already in your namespace), then that cluster will be closed and a new one created."
   ]
  },
  {
   "cell_type": "code",
   "execution_count": null,
   "metadata": {},
   "outputs": [],
   "source": [
    "#%% start a cluster for parallel processing (if a cluster already exists it will be closed and a new session will be opened)\n",
    "if 'cluster' in locals():  # 'locals' contains list of current local variables\n",
    "    print('Closing previous cluster')\n",
    "    cm.stop_server(dview=cluster)\n",
    "print(\"Setting up new cluster\")\n",
    "_, cluster, n_processes = cm.cluster.setup_cluster(backend='multiprocessing', \n",
    "                                                 n_processes=num_processors_to_use, \n",
    "                                                 ignore_preexisting=False)\n",
    "print(f\"Successfully set up cluster with {n_processes} processes\")"
   ]
  },
  {
   "cell_type": "markdown",
   "metadata": {},
   "source": [
    "# Define parameters\n",
    "We first set some parameters related to the data and motion correction and create a `params` object. We'll modify this parameter object later on with settings for source extraction. You can also set all the parameters at once as demonstrated in the `demo_pipeline.ipynb` notebook.\n",
    "\n",
    "Note here we are setting `pw_rigid` to `False`, as our data seems to mainly contain large-scale translational motion. We can always redo this later if it turns out to be a mistake.\n",
    "\n",
    "# Key parameters for CNMF...\n",
    "#### 1. rf (int): patch half-width\n",
    "\n",
    "rf ('receptive field') is the half width of patches that in pixels (the actual patch width is 2*rf + 1). See previous image for a representation of how the field of view is split up into patches for parallel procesing. rf should be at least 3-4 times larger than the observed neuron diameter. The larger the patch size, the less parallelization will be used by Caiman. If rf is set to None, then CNMF will be run on the entire field of view.\n",
    "\n",
    "#### 2. stride (int): patch overlap\n",
    "\n",
    "stride is the overlap between patches in pixels (the actual overlap is stride + 1). This should be at least the diameter of a neuron. The larger the overlap, the greater the computational load, but the results will be more accurate when stitching together results from different patches.\n",
    "\n",
    "#### 3. K (int): components per patch\n",
    "\n",
    "K is the expected number of components per patch. You should adapt this to the density of components in your data, and the current rf parameter. We suggest you pick K based on the more dense patches in your movie so you don't miss neurons (we want to avoid false negatives).\n",
    "\n",
    "#### 4. gSig (int, int): half-width of neurons\n",
    "\n",
    "gSig is roughly the half-width of neurons in your movie in pixels (height, width): it is the sigma parameter of a Gaussian filter run on all the images during initialization. If the filter matches the neurons, you will get a much better estimate. gSig goes with gSiz, which is the kernel size (height and width in pixels) used for the filter. See the GaussianBlur() OpenCV function for more details on the sigma and size parameters.\n",
    "\n",
    "merge_thr (float): merge threshold\n",
    "\n",
    "If two spatially overlapping components are correlated above merge_thr, they will be merged into one component. The correlation coefficient is calculated using their calcium traces. If Caiman identifies a \"component\" that clearly contains two overlapping components, then increase merge_thr.\n",
    "\n",
    "You typically will set rf and stride infrequently, so K, gSig, and merge_thr are the main parameters you will tweak when analyzing a given session. Note these are not the only important parameters. They just tend to be the most important: the others tend to depend on your calcium indicator or other factors that don't vary within an experimental session.\n",
    "\n",
    "\n",
    "### all parameters\n",
    "- `fnames`: List of paths to the file(s) to be analysed. Memmap and hdf5 result files will be saved in the same directory.\n",
    "- `fr`: Imaging frame rate in frames per second.\n",
    "- `decay_time`: Length of a typical transient in seconds. decay_time is an approximation of the time scale over which to expect a significant shift in the calcium signal during a transient. It defaults to 0.4, which is appropriate for fast indicators (GCaMP6f), slow indicators might use 1 or even more. However, decay_time does not have to precisely fit the data, approximations are enough.\n",
    "- `p`: Order of the autoregressive model. p = 0 turns deconvolution off. If transients in your data rise instantaneously, set p = 1 (occurs at low sample rate or slow indicator). If transients have visible rise time, set p = 2. If the wrong order is chosen, spikes are extracted unreliably.\n",
    "- `nb`: Number of global background components. This is a measure of the complexity of your background noise. Defaults to nb = 2, assuming a relatively homogeneous background. nb = 3 might fit for more complex noise, nb = 1 is usually too low. If nb is set too low, extracted traces appear too noisy, if nb is set too high, neuronal signal starts getting absorbed into the background reduction, resulting in reduced transients.\n",
    "- `merge_thr`: Merging threshold of components after initialization. If two components are correlated more than this value (e.g. when during initialization a neuron was split in two components), they are merged and treated as one.\n",
    "- `rf`: Half-size of the patches in pixels. Should be at least 3 to 4 times larger than the expected neuron size to capture the complete neuron and its local background. Larger patches lead to less parallelization.\n",
    "- `stride`: Overlap between patches in pixels. This should be roughly the neuron diameter. Larger overlap increases computational load, but yields better results during reconstruction/denoising of the data.\n",
    "- `K`: Number of (expected) components per patch. Adapt to rf and estimated component density.\n",
    "- `gSig`: Expected half-size of neurons in pixels [rows X columns]. CRUCIAL parameter for proper component detection.\n",
    "- `gSig_filt`: The size of the kernel is given from the parameter `gSig_filt`. Motion correction performs the best when `gSig_filt` is same with `gSig`. If this is left to the default value of `None` then no spatial filtering is performed (default option, used in 2p data).\n",
    "- `method_init`: Initialization method, depends mainly on the recording method. Use greedy_roi for 2p data, corr_pnr for 1p data, and sparse_nmf for dendritic/axonal data.\n",
    "- `ssub/tsub`: Spatial and temporal subsampling during initialization. Defaults to 1 (no compression). Can be set to 2 or even higher to save resources, but might impair detection/extraction quality.\n"
   ]
  },
  {
   "cell_type": "code",
   "execution_count": null,
   "metadata": {},
   "outputs": [],
   "source": [
    "# dataset dependent parameters\n",
    "frate = 10                       # movie frame rate\n",
    "decay_time = 0.4                 # length of a typical transient in seconds\n",
    "\n",
    "# motion correction parameters\n",
    "motion_correct = True    # flag for performing motion correction\n",
    "pw_rigid = False         # flag for performing piecewise-rigid motion correction (otherwise just rigid)\n",
    "gSig_filt = (6, 6)       # sigma for high pass spatial filter applied before motion correction, used in 1p data (half-size of neurons)\n",
    "max_shifts = (50, 50)      # maximum allowed rigid shift\n",
    "strides = (100, 100)       # start a new patch for pw-rigid motion correction every x pixels\n",
    "overlaps = (50, 50)      # overlap between patches (size of patch = strides + overlaps)\n",
    "max_deviation_rigid = 5  # maximum deviation allowed for patch with respect to rigid shifts\n",
    "border_nan = 'copy'      # replicate values along the boundaries\n",
    "\n",
    "mc_dict = {\n",
    "    'fnames': movie_path,\n",
    "    'fr': frate,\n",
    "    'decay_time': decay_time,\n",
    "    'pw_rigid': pw_rigid,\n",
    "    'max_shifts': max_shifts,\n",
    "    'gSig_filt': gSig_filt,\n",
    "    'strides': strides,\n",
    "    'overlaps': overlaps,\n",
    "    'max_deviation_rigid': max_deviation_rigid,\n",
    "    'border_nan': border_nan\n",
    "}\n",
    "\n",
    "parameters = params.CNMFParams(params_dict=mc_dict)"
   ]
  },
  {
   "cell_type": "markdown",
   "metadata": {},
   "source": [
    "# Motion Correction\n",
    "The background signal in micro-endoscopic data is very strong and makes motion correction challenging. As a first step the algorithm performs a high pass spatial filtering with a Gaussian kernel to remove the bulk of the lower-frequency background activity and enhance spatial landmarks. The size of the kernel is given from the parameter `gSig_filt`. If this is left to the default value of `None` then no preprocessing is performed (default option, used in 2p data for CNMF). \n",
    "\n",
    "After spatial filtering, the NoRMCorre algorithm is used to determine the motion in each frame. The inferred motion is then applied to the *original* data, not the preprocessed data, so no information is lost before source separation. The motion corrected files are saved in memory mapped format. If no motion correction is performed (i.e., `motion_correct` was set to `False`), then the file gets directly memory mapped.\n",
    "\n",
    "> For a more detailed exploration of Caiman's motion correction pipeline, see `demo_motion_correction.ipynb`. \n",
    "\n",
    "The following also plots the discovered displacements in x- and y- directions."
   ]
  },
  {
   "cell_type": "code",
   "execution_count": null,
   "metadata": {},
   "outputs": [],
   "source": [
    "%%time\n",
    "\n",
    "%matplotlib inline\n",
    "if motion_correct:\n",
    "    # do motion correction rigid\n",
    "    mot_correct = MotionCorrect(movie_path, dview=cluster, **parameters.get_group('motion'))\n",
    "    mot_correct.motion_correct(save_movie=True)\n",
    "    fname_mc = mot_correct.fname_tot_els if pw_rigid else mot_correct.fname_tot_rig\n",
    "    if pw_rigid:\n",
    "        bord_px = np.ceil(np.maximum(np.max(np.abs(mot_correct.x_shifts_els)),\n",
    "                                     np.max(np.abs(mot_correct.y_shifts_els)))).astype(int)\n",
    "    else:\n",
    "        bord_px = np.ceil(np.max(np.abs(mot_correct.shifts_rig))).astype(int)\n",
    "        # Plot shifts\n",
    "        plt.plot(mot_correct.shifts_rig)  # % plot rigid shifts\n",
    "        plt.legend(['x shifts', 'y shifts'])\n",
    "        plt.xlabel('frames')\n",
    "        plt.ylabel('pixels')\n",
    "        plt.gcf().set_size_inches(6,3)\n",
    "\n",
    "    bord_px = 0 if border_nan == 'copy' else bord_px\n",
    "    fname_new = cm.save_memmap(fname_mc, base_name='memmap_', order='C',\n",
    "                               border_to_0=bord_px)\n",
    "else:  # if no motion correction just memory map the file\n",
    "    fname_new = cm.save_memmap(movie_path, base_name='memmap_',\n",
    "                               order='C', border_to_0=0, dview=dview)"
   ]
  },
  {
   "cell_type": "code",
   "execution_count": null,
   "metadata": {},
   "outputs": [],
   "source": [
    "%matplotlib inline\n",
    "\n",
    "# plot shifts\n",
    "plt.plot(mot_correct.shifts_rig)\n",
    "plt.legend(['x shifts', 'y shifts'])\n",
    "plt.xlabel('frames')\n",
    "plt.ylabel('pixels')\n",
    "plt.gcf().set_size_inches(6,3)\n",
    "highlight(plt, colors, [[i * frate for i in onset] for onset in onsets], [[i * frate for i in duration] for duration in durations])\n",
    "\n",
    "plt.savefig(f\"{output_path}/motion_shifts.png\")\n",
    "plt.show()\n",
    "shift_distance = []\n",
    "for rig in mot_correct.shifts_rig:\n",
    "    shift_distance.append(np.sqrt(np.power(rig[0],2)+np.power(rig[1],2)))\n",
    "plt.clf()\n",
    "\n",
    "# plot distance of shifts\n",
    "plt.plot(shift_distance, color = 'black', linewidth = 0.5) \n",
    "plt.legend(['shift_distance'])\n",
    "plt.xlabel('frames')\n",
    "plt.ylabel('pixels')\n",
    "plt.gcf().set_size_inches(6,3)\n",
    "highlight(plt, colors, [[i * frate for i in onset] for onset in onsets], [[i * frate for i in duration] for duration in durations])\n",
    "plt.savefig(f\"{output_path}/motion_distance.png\")\n",
    "plt.show()\n"
   ]
  },
  {
   "cell_type": "markdown",
   "metadata": {},
   "source": [
    "## Load memory mapped file\n",
    "Memory mapping is discussed in more detail in `demo_pipeline.ipynb`."
   ]
  },
  {
   "cell_type": "code",
   "execution_count": null,
   "metadata": {},
   "outputs": [],
   "source": [
    "# load memory mappable file\n",
    "Yr, dims, T = cm.load_memmap(fname_new)\n",
    "images = Yr.T.reshape((T,) + dims, order='F')"
   ]
  },
  {
   "cell_type": "code",
   "execution_count": null,
   "metadata": {},
   "outputs": [],
   "source": [
    "from tifffile import imsave\n",
    "from skimage import io\n",
    "\n",
    "mot_corrected = np.array(images)\n",
    "io.imsave(os.path.join(output_path, \"motion_corrected_movie.tif\"), mot_corrected)\n"
   ]
  },
  {
   "cell_type": "markdown",
   "metadata": {},
   "source": [
    "## Inspect summary images and set parameters\n",
    "### Correlation-pnr plot\n",
    "For CNMFE, Caiman uses the correlation and peak-to-noise ratio (PNR) for initialization, which will both tend to be high in regions that contain neurons. Hence, we set a threshold for both quantitites to remove the low correlation/low pnr regions and seed initialization with regions most likely to contain neuronal activity. \n",
    "\n",
    "Using `nb_inspect_correlation_pnr()`, you can inspect the correlation and PNR images to find threshold values for these quantities: `min_corr` and `min_pnr`. You can adjust the range of values displayed in the two subplots below by choosing the Y-box select tool (third button from the left) and selecting the desired region in the histograms on the right hand side of each image. You can also use the pan button (first button on the left) to zoom/adjust the axis limits in the histogram to make it easier to see the limits."
   ]
  },
  {
   "cell_type": "code",
   "execution_count": null,
   "metadata": {},
   "outputs": [],
   "source": [
    "%matplotlib widget\n",
    "# inspect the summary images and set the parameters\n",
    "correlation_image, peak_to_noise_ratio = cm.summary_images.correlation_pnr(images[::max(T//1000, 1)], # subsample if needed\n",
    "                                                                            gSig=5, # used for filter\n",
    "                                                                            swap_dim=False) # change swap dim if output looks weird, it is a problem with tiffile\n",
    "nb_inspect_correlation_pnr(correlation_image, peak_to_noise_ratio, cmap='inferno') # jet, fire are also good cmaps\n"
   ]
  },
  {
   "cell_type": "markdown",
   "metadata": {},
   "source": [
    "# Parameter setting for CNMF-E\n",
    "Everything is now set up to run source extraction with CNMFE. We will construct a new parameter dictionary and use this to modify the *existing* `parameters` object, using the `change_params()` method.\n",
    "\n",
    "There are *two* main differences between the CNMF and CNMFE source separation algorithms. The first is the background model (this is discussed in the sidebar below on the Ring Model). The second difference is in how the models are initialized. This is addressed below when we go over setting corr/pnr thresholds for initialization, which we did not have to do for our 2p data.\n",
    "\n",
    "For now, note that we have set `gnb` to `0`: this is effectively the flag telling Caiman to use CNMFE instead of CNMF. "
   ]
  },
  {
   "cell_type": "code",
   "execution_count": null,
   "metadata": {},
   "outputs": [],
   "source": [
    "# parameters for source extraction and deconvolution\n",
    "p = 1               # order of the autoregressive system\n",
    "K = None            # upper bound on number of components per patch, in general None for CNMFE\n",
    "gSig = np.array([4, 4])  # expected half-width of neurons in pixels \n",
    "gSiz = 2*gSig + 1     # half-width of bounding box created around neurons during initialization\n",
    "merge_thr = .7      # merging threshold, max correlation allowed\n",
    "rf = 80             # half-size of the patches in pixels. e.g., if rf=40, patches are 80x80\n",
    "stride_cnmf = 40    # amount of overlap between the patches in pixels \n",
    "tsub = 1            # downsampling factor in time for initialization, increase if you have memory problems1\n",
    "ssub = 1            # downsampling factor in space for initialization, increase if you have memory problems\n",
    "gnb = 0             # number of background components (rank) if positive, set to 0 for CNMFE\n",
    "low_rank_background = None  # None leaves background of each patch intact (use True if gnb>0)\n",
    "nb_patch = 0        # number of background components (rank) per patch (0 for CNMFE)\n",
    "min_corr = .9       # min peak value from correlation image\n",
    "min_pnr = 15        # min peak to noise ration from PNR image\n",
    "ssub_B = 1          # additional downsampling factor in space for background (increase to 2 if slow)\n",
    "ring_size_factor = 1.5  # radius of ring is gSiz*ring_size_factor\n",
    "\n",
    "parameters.change_params(params_dict={'method_init': 'corr_pnr',  # use this for 1 photon\n",
    "                                'K': K,\n",
    "                                'gSig': gSig,\n",
    "                                'gSiz': gSiz,\n",
    "                                'merge_thr': merge_thr,\n",
    "                                'p': p,\n",
    "                                'tsub': tsub,\n",
    "                                'ssub': ssub,\n",
    "                                'rf': rf,\n",
    "                                'stride': stride_cnmf,\n",
    "                                'only_init': True,    # set it to True to run CNMF-E\n",
    "                                'nb': gnb,\n",
    "                                'nb_patch': nb_patch,\n",
    "                                'method_deconvolution': 'oasis',       # could use 'cvxpy' alternatively\n",
    "                                'low_rank_background': low_rank_background,\n",
    "                                'update_background_components': True,  # sometimes setting to False improve the results\n",
    "                                'min_corr': min_corr,\n",
    "                                'min_pnr': min_pnr,\n",
    "                                'normalize_init': False,               # just leave as is\n",
    "                                'center_psf': True,                    # True for 1p\n",
    "                                'ssub_B': ssub_B,\n",
    "                                'ring_size_factor': ring_size_factor,\n",
    "                                'del_duplicates': True,                # whether to remove duplicates from initialization\n",
    "                                'border_pix': bord_px});                # number of pixels to not consider in the borders)"
   ]
  },
  {
   "cell_type": "markdown",
   "metadata": {},
   "source": [
    "Initialize the model using the parameters."
   ]
  },
  {
   "cell_type": "code",
   "execution_count": null,
   "metadata": {},
   "outputs": [],
   "source": [
    "cnmfe_model = cnmf.CNMF(n_processes=n_processes, \n",
    "                        dview=cluster, \n",
    "                        params=parameters)"
   ]
  },
  {
   "cell_type": "markdown",
   "metadata": {},
   "source": [
    "<div class=\"alert alert-info\">\n",
    "    <h2 >CNMF-E: The Ring Model</h2>\n",
    "   Background activity is very ill-behaved with 1p recordings: it often fluctuates locally and is much larger in magnitude than the neural signals we want to extract. In other words, the large-scale background model used for CNMF is not sufficient for most 1p data. Hence, Pengcheng Zhou and others came up with a localized model of background activity for CNMFE: the background at each pixel is represented as the weighted sum of activity from a circle (or ring) of pixels a certain distance from that pixel. The distance of this ring from the reference pixel is set by the <em>ring_size_factor</em> parameter. This more complex pixel-by-pixel background model explains why CNMFE is computationally more expensive than CNMF, and also why it works better to mop up large-scale localized background noise in  1p data. \n",
    "    \n",
    "<p>When you set <em>gnb</em> in the CNMF model (usually to 1 or 2), you are setting the number of global background components. The fact that you can get away with so few is testament to how well-behaved the background activity is in 2p recordings. When we set <em>gnb</em> to 0 in Caiman, this is a flag telling Caiman's back end to switch to the more complicated ring model of the background activity.</p>\n",
    "\n",
    "For more details on CNMFE you can see the <a href=\"https://elifesciences.org/articles/28728\">original paper</a> and the <a href=\"https://elifesciences.org/articles/38173\">Caiman paper</a>. \n",
    "</div>"
   ]
  },
  {
   "cell_type": "markdown",
   "metadata": {},
   "source": [
    "## Key parameters for CNMFE\n",
    "The key parameters for CNMFE are slightly different than for CNMF, but with some overlap. As we'll see, because of the high levels of background activity, we can't initialize the same way as with CNMF. We have two new important parameters directly related to initialization that come into play: `min_corr` and `min_pnr`. "
   ]
  },
  {
   "cell_type": "markdown",
   "metadata": {},
   "source": [
    "`rf` (int): *patch half-width*\n",
    "> `rf`, which stands for 'receptive field', is the half width of patches in pixels. The patch width is `2*rf + 1`. `rf` should be *at least* 3-4 times larger than the observed neuron diameter. The larger the patch size, the less parallelization will be used by Caiman. If `rf` is set to `None`, then CNMFE will be run on the entire field of view.\n",
    "\n",
    "`stride` (int): *patch overlap*\n",
    "> `stride` is the overlap between patches in pixels (the actual overlap is `stride_cnmf + 1`). This should be at least the diameter of a neuron. The larger the overlap, the greater the computational load, but the results will be more accurate when stitching together results from different patches. This param should probably have been called 'overlap' instead of 'stride'.\n",
    "\n",
    "`gSig (int, int)`: *half-width of neurons*\n",
    "> `gSig` is roughly the half-width of neurons in your movie in pixels (height, width). It is the standard deviation of the mean-centered Gaussian used to filter the movie before initialization for CNMFE. It is related to the `gSiz` parameter, which is the width of the entire kernel filter.\n",
    "\n",
    "`merge_thr (float)`: *merge threshold* \n",
    "> If the correlation between two spatially overlapping components is above `merge_thr`, they will be merged into one component. \n",
    "\n",
    "`min_corr` (float): *minimum correlation*\n",
    "> Pixels from neurons tend to be correlated with their neighbors. During initialization, Caiman filters out those pixels below `min_corr` to help select seed pixels. We discuss this more below.\n",
    "\n",
    "`min_pnr` (float): *minimum peak to noise ratio*\n",
    "> Pixels from neurons tend to have a high signal-to-noise ratio. During initialization, Caiman filters out those pixels below `min_pnr` to help select seed pixels. We discuss this more below."
   ]
  },
  {
   "cell_type": "markdown",
   "metadata": {},
   "source": [
    "<div class=\"alert alert-info\">\n",
    "    <h2>CNMFE initialization: More on correlation and peak-to-noise-ratio</h2>\n",
    "     <img src=\"images/mn_centered_gaussian.jpg\" align=\"right\" width=\"200\"></img>\n",
    "How are correlation and peak-to-noise ratio actually calculated? First Caiman convolves the motion corrected movie with a <i>mean-centered Gaussian</i> (example to the right). The sigma of the Gaussian is <em>gSig</em>, and mean centering is turned on by setting <em>center_psf</em> to <em>True</em>. This mean centering creates a Gaussian with a positive peak in the middle of width <i>approximately</i> <em>gSig/2</em>, surrounded by a negative trench, and a ledge of zeros around the outer edges. This crucial preprocessing filter serves to highlight neuronal peaks and smooth away low-frequency background activity.\n",
    "\n",
    "<p>The function <em>correlation_pnr()</em> applies this mean-centered Gaussian to each frame of the motion corrected movie and returns the correlation image of that movie, as well as the peak-to-noise-ratio (PNR). The correlation image is the correlation of each pixel with its neighbors. The PNR is the ratio of the maximum magnitude at a pixel to the noise value at that pixel (it is a fast and rough measure of signal-to-noise). As mentioned above, both of these values tend to be higher in pixels that contain neurons. The CNMFE initialization procedure is to set a threshold for both quantities, take their <i>product</i>, and use the peaks in this product map to find <b>seed pixels</b> for initialization of the CNMFE source separation algorithm.</p>\n",
    "\n",
    "More details on the initialization procedure used here can be found in the <a href=\"https://elifesciences.org/articles/28728\">CNMFE paper</a>, or by exploring the code.         \n",
    "</div>"
   ]
  },
  {
   "cell_type": "markdown",
   "metadata": {},
   "source": [
    "## Run the CNMF-E algorithm"
   ]
  },
  {
   "cell_type": "code",
   "execution_count": null,
   "metadata": {},
   "outputs": [],
   "source": [
    "%%time\n",
    "cnmfe_model.fit(images);"
   ]
  },
  {
   "cell_type": "markdown",
   "metadata": {},
   "source": [
    "Running the algorithm creates an `estimates` class, which we discuss in detail in `demo_pipeline.ipynb`. The CNMFE `estimates` class includes almost all the same attributes as with CNMF, such as the neural spatial and temporal components `A` and `C`. \n",
    "\n",
    "It also includes the discovered model of background activity, which is different from the CNMF model. For *CNMF* the background model is returned as low-rank matrices `b` and `f`. For CNMFE, the background model parameters are represented in the matrix `W` (the weights of the *ring model* -- discussed above -- for each pixel) as well as `b0` (a constant offset for each pixel). We will show how to reconstruct the background activity below. "
   ]
  },
  {
   "cell_type": "markdown",
   "metadata": {},
   "source": [
    "# Component Evaluation\n",
    "Source extraction typically produces many false positives. Our next step is quality control: separating the results into \"good\" and \"bad\" neurons using two different metrics (discussed in detail in `demo_notebook.ipynb`):\n",
    "\n",
    "- **Signal-to-noise ratio (SNR)**: a minimum SNR is set for the calcium transients (`min_SNR`).\n",
    "- **Spatial correlation**:  a minimum correlation is set between the shape of each component and the frames in the movie when that component is active (`rval_thr`). \n",
    "\n",
    "> Caiman does *not* use the CNN classifier to sort neurons based on shape for 1p data: the network was trained on 2p data. Hence, we set the `use_cnn` param to `False`. \n",
    "\n",
    "Here we set the two parameters and run `evaluate_components()` to see which pass muster:"
   ]
  },
  {
   "cell_type": "code",
   "execution_count": null,
   "metadata": {},
   "outputs": [],
   "source": [
    "min_SNR = 7            # SNR threshold\n",
    "rval_thr = 1    # spatial correlation threshold\n",
    "\n",
    "quality_params = {'min_SNR': min_SNR,\n",
    "                  'rval_thr': rval_thr,\n",
    "                  'use_cnn': False}\n",
    "cnmfe_model.params.change_params(params_dict=quality_params)\n",
    "\n",
    "cnmfe_model.estimates.evaluate_components(images, cnmfe_model.params, dview=cluster)\n",
    "\n",
    "print('*****')\n",
    "print(f\"Total number of components: {len(cnmfe_model.estimates.C)}\")\n",
    "print(f\"Number accepted: {len(cnmfe_model.estimates.idx_components)}\")\n",
    "print(f\"Number rejected: {len(cnmfe_model.estimates.idx_components_bad)}\")"
   ]
  },
  {
   "cell_type": "markdown",
   "metadata": {},
   "source": [
    "# Visualize results"
   ]
  },
  {
   "cell_type": "code",
   "execution_count": null,
   "metadata": {},
   "outputs": [],
   "source": [
    "#%% plot contour plots of accepted and rejected components\n",
    "cnmfe_model.estimates.plot_contours_nb(img=correlation_image, \n",
    "                                       idx=cnmfe_model.estimates.idx_components);"
   ]
  },
  {
   "cell_type": "markdown",
   "metadata": {},
   "source": [
    "View traces of accepted and rejected components:"
   ]
  },
  {
   "cell_type": "code",
   "execution_count": null,
   "metadata": {},
   "outputs": [],
   "source": [
    "cnmfe_model.estimates.nb_view_components(img=correlation_image, \n",
    "                                        idx=cnmfe_model.estimates.idx_components,\n",
    "                                        cmap='viridis', #gray\n",
    "                                        thr=.9); #increase to see full footprint"
   ]
  },
  {
   "cell_type": "markdown",
   "metadata": {},
   "source": [
    "# Save and load results\n",
    "\n",
    "#### The results of Caiman are saved in an estimates object. This is stored inside the cnmf object, i.e. it can be accessed using cnmf.estimates. The variables of interest are:\n",
    "\n",
    "`estimates.A`: Set of spatial components. Saved as a sparse column format matrix with dimensions (# of pixels X # of components). Each column corresponds to a spatial component.\n",
    "\n",
    "`estimates.C`: Set of temporal components. Saved as a numpy array with dimensions (# of components X # of timesteps). Each row corresponds to a temporal component denoised and deconvolved.\n",
    "\n",
    "`estimates.b`: Set of background spatial components (for 2p analysis): Saved as a numpy array with dimensions (# of pixels X # of components). Each column corresponds to a spatial background component.\n",
    "\n",
    "`estimates.f`: Set of temporal background components (for 2p analysis). Saved as a numpy array with dimensions (# of background components X # of timesteps). Each row corresponds to a temporal background component.\n",
    "\n",
    "`estimates.S`: Deconvolved neural activity (spikes) for each component. Saved as a numpy array with dimensions (# of background components X # of timesteps). Each row corresponds to the deconvolved neural activity for the corresponding component.\n",
    "\n",
    "`estimates.YrA`: Set of residual components. Saved as a numpy array with dimensions (# of components X # of timesteps). Each row corresponds to the residual signal after denoising the corresponding component in estimates.C.\n",
    "\n",
    "`estimates.F_dff`: Set of DF/F normalized temporal components. Saved as a numpy array with dimensions (# of components X # of timesteps). Each row corresponds to the DF/F fluorescence for the corresponding component.\n",
    "\n",
    "`estimates.sn`: Standard deviation of the noise distribution. If no value is given, then sn is estimated from the data.\n",
    "\n",
    "`estimates.bl`: Fluorescence baseline value. If no value is given, then bl is estimated from the data.\n",
    "\n",
    "`estimates.b0`: The variables for one photon processing, for the baseline value for each pixel.\n",
    "\n",
    "`dF_F`: calculated delta F over F. (caution: original CaIMaN strongly recommend NOT TO use dF/F for 1p image, because the background signal is ill-behaved."
   ]
  },
  {
   "cell_type": "markdown",
   "metadata": {},
   "source": [
    "In fact, `dF_F`, `estimates.C`, and `detrended calcium trace` all show the same graph. Only difference is *unit* of the y axis.\n",
    "\n",
    "See below:\n",
    "\n",
    "### Extract $\\Delta F/F$ values\n",
    "Currently in Caiman, we don't return a true dff value for 1p data. This is because, as mentioned in `demo_pipeline.ipynb`,  Caiman normalizes to both the baseline fluorescence and background activity. The background activity in 1p is so ill-behaved (as discussed above in the sidebar on the ring model) that Caiman currently only *detrends* the data by subtracting away the baseline but not normalizing the data. This explains the warning you will see when you run the following:\n",
    "\n",
    "\n",
    "    cnmfe_model.estimates.detrend_df_f(quantileMin=8, \n",
    "                                      frames_window=250,\n",
    "                                      flag_auto=False,\n",
    "                                      use_residuals=False);  # use denoised data"
   ]
  },
  {
   "cell_type": "code",
   "execution_count": null,
   "metadata": {},
   "outputs": [],
   "source": [
    "from caiman.source_extraction.cnmf.utilities import extract_DF_F\n",
    "C = cnmfe_model.estimates.C\n",
    "YrA = cnmfe_model.estimates.YrA\n",
    "f = cnmfe_model.estimates.f\n",
    "A = cnmfe_model.estimates.A\n",
    "b = cnmfe_model.estimates.b\n",
    "bl = cnmfe_model.estimates.bl\n",
    "b0 = cnmfe_model.estimates.b0\n",
    "sn = cnmfe_model.estimates.sn\n",
    "dims = cnmfe_model.estimates.dims\n",
    "dF_F = extract_DF_F(Yr, A, C, bl)\n"
   ]
  },
  {
   "cell_type": "markdown",
   "metadata": {},
   "source": [
    "# Visualize accepted / rejected ROI coordinates "
   ]
  },
  {
   "cell_type": "code",
   "execution_count": null,
   "metadata": {},
   "outputs": [],
   "source": [
    "%matplotlib inline\n",
    "import csv\n",
    "import os\n",
    "\n",
    "index_list = cnmfe_model.estimates.idx_components\n",
    "index_list_bad = cnmfe_model.estimates.idx_components_bad\n",
    "from matplotlib.patches import Rectangle\n",
    "import matplotlib.pyplot as plt\n",
    "import matplotlib.colors as mcolors\n",
    "\n",
    "from skimage import io\n",
    "n, y, x = images.shape\n",
    "\n",
    "########## mapping of accepted neurons ############\n",
    "\n",
    "fig, axes = plt.subplots(1,2, figsize = (32,13))\n",
    "axes[0].imshow(correlation_image, cmap='gray')\n",
    "size = 0\n",
    "for i in index_list:\n",
    "    rcolor = np.random.rand(3,)\n",
    "    axes[0].plot(cnmfe_model.estimates.coordinates[i]['coordinates'][1:-1,0],cnmfe_model.estimates.coordinates[i]['coordinates'][1:-1,1],\n",
    "                linewidth=3, color=rcolor)\n",
    "    height = min(cnmfe_model.estimates.coordinates[i]['coordinates'][1:-1,1])\n",
    "    axes[0].text(max(cnmfe_model.estimates.coordinates[i]['coordinates'][1:-1,0])-10, height+10, i, ha='center', va='bottom', \n",
    "                size=15,color=rcolor)\n",
    "    axes[1].plot(dF_F[i], alpha=0.6, color=rcolor)\n",
    "    size += 1\n",
    "#axes[0].legend(index_list, fontsize=10, bbox_to_anchor=(1.05, 1.0), loc='upper left')\n",
    "axes[0].set_xlim([0,x])\n",
    "axes[0].set_ylim([y,0])\n",
    "axes[0].set_title(\"MAP of accepted ROIs\", size=18, fontweight='heavy')\n",
    "# axes[0].get_legend().remove()\n",
    "# axes[1].legend(index_list, fontsize=10, bbox_to_anchor=(1.05, 1.0), loc='upper left')\n",
    "axes[1].set_title(\"Calcium traces of accepted ROIs\", size=18, fontweight='heavy')\n",
    "axes[1].set_xlabel(\"frames\",size=15)\n",
    "axes[1].set_ylabel(\"dF/F\",size=15)\n",
    "\n",
    "plt.savefig(os.path.join(output_path, \"accepted ROIs and Traces.png\"))\n",
    "\n",
    "\n",
    "\n",
    "# ########## mapping of rejected neurons ############\n",
    "# fig, axes = plt.subplots(1,2, figsize = (32,13))\n",
    "# axes[0].imshow(correlation_image, cmap='gray')\n",
    "# size = 0\n",
    "# for i in index_list_bad:\n",
    "#     rcolor = np.random.rand(3,)\n",
    "#     axes[0].plot(cnmfe_model.estimates.coordinates[i]['coordinates'][1:-1,0],cnmfe_model.estimates.coordinates[i]['coordinates'][1:-1,1],\n",
    "#                 linewidth=3, color=rcolor)\n",
    "#     height = min(cnmfe_model.estimates.coordinates[i]['coordinates'][1:-1,1])\n",
    "#     axes[0].text(max(cnmfe_model.estimates.coordinates[i]['coordinates'][1:-1,0])-10, height+10, i, ha='center', va='bottom', \n",
    "#                 size=15,color=rcolor)\n",
    "#     axes[1].plot(dF_F[i], alpha=0.6, color=rcolor)\n",
    "#     size += 1\n",
    "# axes[0].legend(index_list, fontsize=10, bbox_to_anchor=(1.05, 1.0), loc='upper left')\n",
    "# axes[0].set_xlim([0,x])\n",
    "# axes[0].set_ylim([y,0])\n",
    "# axes[0].set_title(\"MAP of accepted ROIs\", size=18, fontweight='heavy')\n",
    "# # axes[0].get_legend().remove()\n",
    "# axes[1].legend(index_list, fontsize=10, bbox_to_anchor=(1.05, 1.0), loc='upper left')\n",
    "# axes[1].set_title(\"Calcium traces of accepted_ROIs\", size=18, fontweight='heavy')\n",
    "# axes[1].set_xlabel(\"frames\",size=15)\n",
    "# axes[1].set_ylabel(\"dF/F\",size=15)\n",
    "\n",
    "# plt.savefig(os.path.join(output_path, \"rejected ROIs and Traces.png\"))"
   ]
  },
  {
   "cell_type": "markdown",
   "metadata": {},
   "source": [
    "# Save results as csv files\n",
    "\n",
    "1. `rois.csv`: accepted/rejected ROI flag (accepted = 1 means accepted, accepted=0 means rejected)\n",
    "\n",
    "2. `coordinates.csv`: coordinates and center of mass of each ROIs\n",
    "\n",
    "3. `df_f_all.csv`: all df_f\n",
    "\n",
    "4. `df_f_accepted.csv`: df_f for accepted ROIs\n",
    "\n",
    "5. `df_f_rejected.csv`: df_f for rejected ROIs"
   ]
  },
  {
   "cell_type": "code",
   "execution_count": null,
   "metadata": {},
   "outputs": [],
   "source": [
    "## save idx of rois and accepted flag (accepted = 1 means accepted, accepted=0 means rejected)\n",
    "filename = os.path.join(output_path, 'rois.csv')\n",
    "num_accepted = 0\n",
    "num_rejected = 0\n",
    "with open (filename, 'w', newline=\"\") as f: \n",
    "    writer = csv.writer(f)\n",
    "    writer.writerow(['RoIIdx', 'accepted'])\n",
    "    for index in range(len(cnmfe_model.estimates.C)):\n",
    "        if index in cnmfe_model.estimates.idx_components:\n",
    "            accepted = 1; num_accepted +=1\n",
    "        else:\n",
    "            accepted = 0; num_rejected += 1\n",
    "        writer.writerow([index, accepted])\n",
    "    writer.writerow(['num_accepted', num_accepted])\n",
    "    writer.writerow(['num_rejected', num_rejected])\n",
    "    f.close()\n",
    "\n",
    "## save coordinates and CoM\n",
    "filename = os.path.join(output_path, 'coordinates.csv')\n",
    "with open (filename, 'w', newline=\"\") as f: \n",
    "    writer = csv.writer(f)\n",
    "    writer.writerow(['RoIIdx', 'accepted', 'x', 'y', 'is_CoM'])\n",
    "    for index, item in enumerate(cnmfe_model.estimates.coordinates):\n",
    "        if index in cnmfe_model.estimates.idx_components:\n",
    "            accepted = 1\n",
    "        else:\n",
    "            accepted = 0\n",
    "        com = cnmfe_model.estimates.coordinates[index]['CoM']\n",
    "        coordinate = cnmfe_model.estimates.coordinates[index]['coordinates']\n",
    "        for ith, i in enumerate(coordinate):\n",
    "            if (ith != 0 and ith != len(coordinate)-1):\n",
    "                writer.writerow([index, accepted, i[0], i[1], '0'])\n",
    "        writer.writerow([index, accepted, com[1], com[0], '1']) # why CoM x and y coordinates are reversed..?\n",
    "    f.close()\n",
    "\n",
    "\n",
    "## save all df_f \n",
    "filename = os.path.join(output_path, 'df_f_all.csv')\n",
    "with open (filename, 'w', newline=\"\") as f: \n",
    "    writer = csv.writer(f)\n",
    "    for item in dF_F:\n",
    "        writer.writerow(item)\n",
    "    f.close()\n",
    "\n",
    "\n",
    "## save accepted  df_f \n",
    "filename = os.path.join(output_path, 'df_f_accepted.csv')\n",
    "with open (filename, 'w', newline=\"\") as f: \n",
    "    writer = csv.writer(f)\n",
    "    for idx, item in enumerate(dF_F):\n",
    "        if idx in cnmfe_model.estimates.idx_components:\n",
    "            writer.writerow(item)\n",
    "    f.close()\n",
    "\n",
    "## save rejected df_f \n",
    "filename = os.path.join(output_path, 'df_f_rejected.csv')\n",
    "with open (filename, 'w', newline=\"\") as f: \n",
    "    writer = csv.writer(f)\n",
    "    for idx, item in enumerate(dF_F):\n",
    "        if idx not in cnmfe_model.estimates.idx_components:\n",
    "            writer.writerow(item)\n",
    "    f.close()"
   ]
  },
  {
   "cell_type": "markdown",
   "metadata": {},
   "source": [
    "# Plot and save extracted dF/F traces\n",
    "\n",
    "if you want to see calcium traces in ipynb environment,\n",
    "\n",
    "`see_trace` == `True`\n",
    "\n",
    "if you want to see calcium traces in local,\n",
    "\n",
    "`see_trace` = `False`"
   ]
  },
  {
   "cell_type": "code",
   "execution_count": null,
   "metadata": {},
   "outputs": [],
   "source": [
    "## see extracted calcium trace\n",
    "import seaborn as sns\n",
    "%matplotlib inline\n",
    "\n",
    "# font size rescaling\n",
    "trace_save_path = os.path.join(output_path, './traces') \n",
    "if not os.path.exists(trace_save_path):\n",
    "    os.mkdir(trace_save_path)\n",
    "sns.set_context(\"notebook\", font_scale=1)\n",
    "\n",
    "# plot traces\n",
    "see_trace = False\n",
    "t = np.arange(0, dF_F.shape[-1]/frate, 1/frate)\n",
    "for idx, data in enumerate(dF_F):\n",
    "    if idx in cnmfe_model.estimates.idx_components:\n",
    "        plt.figure(figsize=(10,5))\n",
    "        plt.title(f'roi idx: {idx}')\n",
    "        highlight(plt, colors, onsets, durations)\n",
    "        plt.plot(t, dF_F[idx], color = 'black', linewidth = 1, alpha = 0.6)\n",
    "        plt.savefig(os.path.join(trace_save_path, f'roi{idx}.png'))\n",
    "        if see_trace:\n",
    "            plt.show()\n",
    "        else:\n",
    "            plt.close()"
   ]
  },
  {
   "cell_type": "markdown",
   "metadata": {},
   "source": [
    "# Plot clustering heatmap of df_f values"
   ]
  },
  {
   "cell_type": "code",
   "execution_count": null,
   "metadata": {},
   "outputs": [],
   "source": [
    "from tsmoothie.smoother import *\n",
    "\n",
    "# parameters\n",
    "sl=15 # level of smoothing\n",
    "cn=1 # level of clustering (1 -> fewer groups)\n",
    "cn2=1 #클수록 cluster 개수 작음, (0,1)\n",
    "\n",
    "import pandas as pd\n",
    "\n",
    "df=pd.DataFrame(dF_F)\n",
    "print(df.shape)\n",
    "df.fillna(0,inplace=True)\n",
    "df=df.transpose()\n",
    "ni=0\n",
    "for i in sorted(index_list):\n",
    "    df.rename(columns={df.columns[ni]: \"ROI %d\" %i }, inplace = True)\n",
    "    ni+=1\n",
    "df.insert(0,\"time(sec)\", \" \")\n",
    "for j in range(0, len(df)):\n",
    "    df.iloc[j,0]=j/frate\n",
    "df = df.loc[:, (df != 0).any(axis=0)]\n",
    "\n",
    "d_ft=df.copy()\n",
    "df.to_csv(os.path.join(output_path,'accepted_traces.csv'))\n",
    "d_hm=df.copy()\n",
    "d_hm['time(sec)'] = d_hm['time(sec)'].astype(int).round(0)\n",
    "d_hm=d_hm.set_index('time(sec)')\n",
    "d_hm=d_hm.transpose()\n",
    "\n",
    "smoother = ConvolutionSmoother(window_len=sl, window_type='ones')\n",
    "column_names = list(dF_F)\n",
    "for i in range(len(dF_F)-1):\n",
    "    ys=d_ft.iloc[:,i+1]\n",
    "    ys=ys.values\n",
    "    smoother.smooth(ys)\n",
    "    d_ft['%s'%column_names[i+1]]=smoother.smooth_data[0]\n",
    "\n",
    "%matplotlib inline\n",
    "sns.set_context(\"notebook\", font_scale=0.45)\n",
    "cls1=sns.clustermap(d_hm, method='ward', metric='euclidean', col_cluster=False, cmap=\"viridis\", figsize=(10,10), vmax=0.1)\n",
    "plt.savefig(os.path.join(output_path, 'heatmap2'), dpi=300, facecolor='w')"
   ]
  },
  {
   "cell_type": "markdown",
   "metadata": {},
   "source": [
    "# Clean up open resourses\n",
    "Shut down server, close logger."
   ]
  },
  {
   "cell_type": "code",
   "execution_count": null,
   "metadata": {},
   "outputs": [],
   "source": [
    "cm.stop_server(dview=cluster)"
   ]
  },
  {
   "cell_type": "code",
   "execution_count": null,
   "metadata": {},
   "outputs": [],
   "source": [
    "# Shut down logger (otherwise will not be able to delete it)\n",
    "logging.shutdown()"
   ]
  },
  {
   "cell_type": "code",
   "execution_count": null,
   "metadata": {},
   "outputs": [],
   "source": [
    "delete_logs = True\n",
    "logging_dir = cm.paths.get_tempdir() \n",
    "if delete_logs:\n",
    "    log_files = glob.glob(logging_dir + '\\\\demo_pipeline' + '*' + '.log')\n",
    "    for log_file in log_files:\n",
    "        print(f\"Deleting {log_file}\")\n",
    "        os.remove(log_file)\n",
    "else:\n",
    "    print(f\"If you want to inspect your logs they are in {logging_dir}\")"
   ]
  }
 ],
 "metadata": {
  "kernelspec": {
   "display_name": "Python 3 (ipykernel)",
   "language": "python",
   "name": "python3"
  },
  "language_info": {
   "codemirror_mode": {
    "name": "ipython",
    "version": 3
   },
   "file_extension": ".py",
   "mimetype": "text/x-python",
   "name": "python",
   "nbconvert_exporter": "python",
   "pygments_lexer": "ipython3",
   "version": "3.11.11"
  }
 },
 "nbformat": 4,
 "nbformat_minor": 2
}
